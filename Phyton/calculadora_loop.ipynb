{
  "nbformat": 4,
  "nbformat_minor": 0,
  "metadata": {
    "colab": {
      "provenance": [],
      "authorship_tag": "ABX9TyM0Xtc/qBuZU2UTniP6vhuA",
      "include_colab_link": true
    },
    "kernelspec": {
      "name": "python3",
      "display_name": "Python 3"
    },
    "language_info": {
      "name": "python"
    }
  },
  "cells": [
    {
      "cell_type": "markdown",
      "metadata": {
        "id": "view-in-github",
        "colab_type": "text"
      },
      "source": [
        "<a href=\"https://colab.research.google.com/github/Wesleypk/TalentCloudProz/blob/main/calculadora_loop.ipynb\" target=\"_parent\"><img src=\"https://colab.research.google.com/assets/colab-badge.svg\" alt=\"Open In Colab\"/></a>"
      ]
    },
    {
      "cell_type": "code",
      "execution_count": 4,
      "metadata": {
        "id": "WKb_owh3Vk4G"
      },
      "outputs": [],
      "source": [
        "def calculadora(num1, num2, operacao):\n",
        "    match operacao:\n",
        "        case 1:\n",
        "            resultado = num1 + num2\n",
        "        case 2:\n",
        "            resultado = num1 - num2\n",
        "        case 3:\n",
        "            resultado = num1 * num2\n",
        "        case 4:\n",
        "            if num2 != 0:  # Evitar divisão por zero\n",
        "                resultado = num1 / num2\n",
        "            else:\n",
        "                return \"Erro: Divisão por zero!\"\n",
        "        case _:\n",
        "            return \"Operação inválida!\"\n",
        "\n",
        "    return resultado\n",
        "\n",
        "\n",
        "    executar = True\n",
        "\n",
        "    while(executar == True):\n",
        "      print(\"Qual operação deseja realizar?\")\n",
        "      print(\"1:Soma 2: Subtração 3: Multiplicação 4: Divisão\")\n",
        "      operacao = int(imput())\n",
        "      if (operacao < 0) or (operacao > 4):\n",
        "            print(\"Essa operação não existe\")\n",
        "      elif (operacao == 0):\n",
        "            executar = False\n",
        "      else:\n",
        "            print(\"Insira o primeiro número\")\n",
        "            num1 = int(input())\n",
        "            print(\"Insira o segundo número\")\n",
        "            num2 = int(input())\n",
        "            resultado = calculador(num1,num2,operacao)\n",
        "            print(\"O resultado da operação é:\", resultado)\n",
        "\n",
        "\n",
        "\n",
        "\n"
      ]
    }
  ]
}