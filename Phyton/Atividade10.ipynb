{
  "nbformat": 4,
  "nbformat_minor": 0,
  "metadata": {
    "colab": {
      "provenance": [],
      "authorship_tag": "ABX9TyM77h0zviH++p9OzT3abnBC",
      "include_colab_link": true
    },
    "kernelspec": {
      "name": "python3",
      "display_name": "Python 3"
    },
    "language_info": {
      "name": "python"
    }
  },
  "cells": [
    {
      "cell_type": "markdown",
      "metadata": {
        "id": "view-in-github",
        "colab_type": "text"
      },
      "source": [
        "<a href=\"https://colab.research.google.com/github/Wesleypk/TalentCloudProz/blob/main/Atividade10.ipynb\" target=\"_parent\"><img src=\"https://colab.research.google.com/assets/colab-badge.svg\" alt=\"Open In Colab\"/></a>"
      ]
    },
    {
      "cell_type": "code",
      "execution_count": 4,
      "metadata": {
        "colab": {
          "base_uri": "https://localhost:8080/"
        },
        "id": "_W20sK3JyOyG",
        "outputId": "bfe22308-6c6d-4208-ddb9-36046b1eb4ba"
      },
      "outputs": [
        {
          "output_type": "stream",
          "name": "stdout",
          "text": [
            "Digite seu nome completo:gleo\n",
            "Digite o ano de nascimento entre 1922 e 2021: 1922\n",
            "Seu nome é :  gleo\n",
            "Sua idade é :  100\n"
          ]
        }
      ],
      "source": [
        "#Desenvolva um programa que recebe do usuário nome\n",
        "#completo e ano de nascimento que seja entre 1922 e 2021.\n",
        "#A partir dessas informações, o sistema mostrará o nome do\n",
        "#usuário e a idade que completou, ou completará, no ano atual (2022).\n",
        "#Caso o usuário não digite um número ou apareça um inválido no campo\n",
        "#do ano, o sistema informará o erro e continuará perguntando até que\n",
        "#um valor correto seja preenchido.\n",
        "\n",
        "controle = True\n",
        "while controle:\n",
        "  nome = input(\"Digite seu nome completo:\")\n",
        "  ano = int(input(\"Digite o ano de nascimento entre 1922 e 2021: \"))\n",
        "  if (1922 <= ano <= 2021):\n",
        "    print (\"Seu nome é : \",nome)\n",
        "    idade = 2022-ano\n",
        "    print(\"Sua idade é : \",idade)\n",
        "    controle = False\n",
        "  else:\n",
        "    print(\"Ano inserido é inválido\")\n",
        "\n"
      ]
    }
  ]
}