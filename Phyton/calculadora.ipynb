{
  "nbformat": 4,
  "nbformat_minor": 0,
  "metadata": {
    "colab": {
      "provenance": [],
      "authorship_tag": "ABX9TyOaK0+SjWmeyiTW4k5ibZHD",
      "include_colab_link": true
    },
    "kernelspec": {
      "name": "python3",
      "display_name": "Python 3"
    },
    "language_info": {
      "name": "python"
    }
  },
  "cells": [
    {
      "cell_type": "markdown",
      "metadata": {
        "id": "view-in-github",
        "colab_type": "text"
      },
      "source": [
        "<a href=\"https://colab.research.google.com/github/Wesleypk/TalentCloudProz/blob/main/calculadora.ipynb\" target=\"_parent\"><img src=\"https://colab.research.google.com/assets/colab-badge.svg\" alt=\"Open In Colab\"/></a>"
      ]
    },
    {
      "cell_type": "code",
      "execution_count": 4,
      "metadata": {
        "id": "WKb_owh3Vk4G"
      },
      "outputs": [],
      "source": [
        "def calculadora(num1, num2, operacao):\n",
        "    match operacao:\n",
        "        case 1:\n",
        "            resultado = num1 + num2\n",
        "        case 2:\n",
        "            resultado = num1 - num2\n",
        "        case 3:\n",
        "            resultado = num1 * num2\n",
        "        case 4:\n",
        "            if num2 != 0:  # Evitar divisão por zero\n",
        "                resultado = num1 / num2\n",
        "            else:\n",
        "                return \"Erro: Divisão por zero!\"\n",
        "        case _:\n",
        "            return \"Operação inválida!\"\n",
        "\n",
        "    return resultado"
      ]
    }
  ]
}